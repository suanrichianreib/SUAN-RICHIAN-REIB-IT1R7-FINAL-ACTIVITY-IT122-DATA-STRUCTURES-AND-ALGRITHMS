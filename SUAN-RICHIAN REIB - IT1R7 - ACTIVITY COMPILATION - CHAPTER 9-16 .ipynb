{
 "cells": [
  {
   "cell_type": "code",
   "execution_count": 49,
   "id": "adjusted-beverage",
   "metadata": {},
   "outputs": [
    {
     "name": "stdout",
     "output_type": "stream",
     "text": [
      "I. Discuss your learnings on from Chapter 9 to Chapter 17\n",
      "\n",
      "Chapter 9 learnings are the following\n",
      "\n",
      "In chapter 9 graph introduction lesson, we can learn there about what is graph in data structure and how to apply it.\n",
      "Graph is consists of a finite set and a non-linear data structure consisting of nodes referred to as vertices and links that connect the vertices are called edges.\n",
      "Also graph is a collection of vertices and arcs in which vertices are connected with arcs.\n",
      "Vertices is a plural form of vertex means a point where lines meet and each node of the graph is represented as a vertex.\n",
      "Edge is a path between two vertices. So what is path? Path is a sequence of edges between two vertices.\n",
      "Graphs could be used in many ways such as social networks.\n",
      "Two vertices are adjacent if they are connected to each other through an edge is called adjacency.\n",
      "Each node or vertices can be a structure that contains information like user’s name, address, and etc.\n",
      "Add vertex, add edge, and display vertex are three basic operations of graph. We also have types of graphs, directed, weighted and undirected graph.\n",
      "Directed graph vertices are connected by directed edges while undirected graph shows nodes are connected by edges that are all duplex and weighted graph is weighted edge with value.\n"
     ]
    }
   ],
   "source": [
    "print (\"I. Discuss your learnings on from Chapter 9 to Chapter 17\")\n",
    "print (\"\")\n",
    "\n",
    "print (\"Chapter 9 learnings are the following\")\n",
    "print (\"\\nIn chapter 9 graph introduction lesson, we can learn there about what is graph in data structure and how to apply it.\")\n",
    "print (\"Graph is consists of a finite set and a non-linear data structure consisting of nodes referred to as vertices and links that connect the vertices are called edges.\")\n",
    "print (\"Also graph is a collection of vertices and arcs in which vertices are connected with arcs.\")\n",
    "print (\"Vertices is a plural form of vertex means a point where lines meet and each node of the graph is represented as a vertex.\")\n",
    "print (\"Edge is a path between two vertices. So what is path? Path is a sequence of edges between two vertices.\")\n",
    "print (\"Graphs could be used in many ways such as social networks.\")\n",
    "print (\"Two vertices are adjacent if they are connected to each other through an edge is called adjacency.\")\n",
    "print (\"Each node or vertices can be a structure that contains information like user’s name, address, and etc.\")\n",
    "print (\"Add vertex, add edge, and display vertex are three basic operations of graph. We also have types of graphs, directed, weighted and undirected graph.\")\n",
    "print (\"Directed graph vertices are connected by directed edges while undirected graph shows nodes are connected by edges that are all duplex and weighted graph is weighted edge with value.\")"
   ]
  },
  {
   "cell_type": "code",
   "execution_count": 2,
   "id": "laden-fraud",
   "metadata": {},
   "outputs": [
    {
     "name": "stdout",
     "output_type": "stream",
     "text": [
      "Chapter 10 learnings are the following\n",
      "\n",
      "In chapter 10 lesson called binary search, we will learn about what binary search is all about and how it works. Binary search is a search technique which works efficiently on the sorted array list or an array to be sorted.\n",
      "It begins by comparing an element in the middle of the array with the target value. The binary search is a fast search algorithm that use the information that the array is sorted and reduce the time complexity.\n",
      "There are performances of Complexity, best case, average case, worst case and lastly worst case space complexity.\n",
      "Best case is O(1), average case is O(log n), worst case is O(log n) and worst case space complexity is O(1). It requires three pointers to elements, which may be array indices or pointers to memory locations, regardless of the size of the array.\n",
      "Therefore, binary search runs in logarithmic time in the worst case. We can learn here the pseudo code and recursive implementation of binary search which is easy if you study and executed it well.\n",
      "Binary search can be analysed by viewing the run of the procedure on a binary tree. You can create a check function for easier implementation.\n",
      "I learn so many things in this chapter as I explore more examples on internet.\n"
     ]
    }
   ],
   "source": [
    "print (\"Chapter 10 learnings are the following\")\n",
    "print (\"\\nIn chapter 10 lesson called binary search, we will learn about what binary search is all about and how it works. Binary search is a search technique which works efficiently on the sorted array list or an array to be sorted.\")\n",
    "print (\"It begins by comparing an element in the middle of the array with the target value. The binary search is a fast search algorithm that use the information that the array is sorted and reduce the time complexity.\")\n",
    "print (\"There are performances of Complexity, best case, average case, worst case and lastly worst case space complexity.\")\n",
    "print (\"Best case is O(1), average case is O(log n), worst case is O(log n) and worst case space complexity is O(1). It requires three pointers to elements, which may be array indices or pointers to memory locations, regardless of the size of the array.\")\n",
    "print (\"Therefore, binary search runs in logarithmic time in the worst case. We can learn here the pseudo code and recursive implementation of binary search which is easy if you study and executed it well.\")\n",
    "print (\"Binary search can be analysed by viewing the run of the procedure on a binary tree. You can create a check function for easier implementation.\")\n",
    "print (\"I learn so many things in this chapter as I explore more examples on internet.\")"
   ]
  },
  {
   "cell_type": "code",
   "execution_count": 3,
   "id": "patient-silicon",
   "metadata": {},
   "outputs": [
    {
     "name": "stdout",
     "output_type": "stream",
     "text": [
      "Chapter 11 learnings are the following\n",
      "\n",
      "Bubble sort is the lesson of chapter 11 where we can learn about more on bubble sort and its functions on programs.\n",
      "Bubble sort is the simplest sorting algorithm or shall we say simple sorting algorithm.\n",
      "It’s a comparison-based algorithm in which each pair of adjacent elements is contrast and repeatedly swapping the adjacent elements if they are in wrong order through the list.\n",
      "Bubble sort differentiate all the element one by one and arrange them based on their values. We can be optimized by observing that the n-th pass finds the n-th largest element and puts it into its final place.\n",
      "This sort is usually used as an educational tool. This has a worst-case and average complexity of О(n2) means that its efficiency decreases dramatically on lists and takes time so we're keeping it short and exact.\n",
      "Bubble sort starts with first two elements and differentiating them to check which one is higher and further assume that swap function swaps the values of the given array elements.\n",
      "The bubble sort has an ability to detect that the list is sorted efficiently is built into the algorithm. I also learn so many things in this chapter as I explore and understand more examples on internet.\n"
     ]
    }
   ],
   "source": [
    "print (\"Chapter 11 learnings are the following\")\n",
    "print (\"\\nBubble sort is the lesson of chapter 11 where we can learn about more on bubble sort and its functions on programs.\")\n",
    "print (\"Bubble sort is the simplest sorting algorithm or shall we say simple sorting algorithm.\")\n",
    "print (\"It’s a comparison-based algorithm in which each pair of adjacent elements is contrast and repeatedly swapping the adjacent elements if they are in wrong order through the list.\")\n",
    "print (\"Bubble sort differentiate all the element one by one and arrange them based on their values. We can be optimized by observing that the n-th pass finds the n-th largest element and puts it into its final place.\")\n",
    "print (\"This sort is usually used as an educational tool. This has a worst-case and average complexity of О(n2) means that its efficiency decreases dramatically on lists and takes time so we're keeping it short and exact.\")\n",
    "print (\"Bubble sort starts with first two elements and differentiating them to check which one is higher and further assume that swap function swaps the values of the given array elements.\")\n",
    "print (\"The bubble sort has an ability to detect that the list is sorted efficiently is built into the algorithm. I also learn so many things in this chapter as I explore and understand more examples on internet.\")"
   ]
  },
  {
   "cell_type": "code",
   "execution_count": 4,
   "id": "intelligent-franklin",
   "metadata": {},
   "outputs": [
    {
     "name": "stdout",
     "output_type": "stream",
     "text": [
      "Chapter 12 learnings are the following\n",
      "\n",
      "This chapter is all about quick sort and its features on systems. Quick sort is a fast sorting and highly efficient algorithm used to sort a list of elements.\n",
      "It picks an element as pivot and partitions the given array around the picked pivot.\n",
      "Also attempts to separate the list of elements into two parts and then sort each part recursively. It was based on the concept of Divide and Conquer.\n",
      "This algorithm is for large sized data sets as its average and worst-case complexity are O(n2).\n",
      "Large array is partitioned into two arrays one of which holds values smaller than the specified value.\n",
      "There are many different versions of quick sort that pick pivot in different ways such as always pick first element as pivot, always pick last element as pivot, pick a random element as pivot, pick median as pivot.\n",
      "Partition is the key process in quick sort. The goal of the partition process is to transfer items that are on the wrong side to the pivot.\n",
      "A quick sort first point a value, which is called the pivot. So what is pivot? Pivot can be any element from the array, it can be the last element, first element, or random element.\n"
     ]
    }
   ],
   "source": [
    "print (\"Chapter 12 learnings are the following\")\n",
    "print (\"\\nThis chapter is all about quick sort and its features on systems. Quick sort is a fast sorting and highly efficient algorithm used to sort a list of elements.\")\n",
    "print (\"It picks an element as pivot and partitions the given array around the picked pivot.\")\n",
    "print (\"Also attempts to separate the list of elements into two parts and then sort each part recursively. It was based on the concept of Divide and Conquer.\")\n",
    "print (\"This algorithm is for large sized data sets as its average and worst-case complexity are O(n2).\")\n",
    "print (\"Large array is partitioned into two arrays one of which holds values smaller than the specified value.\")\n",
    "print (\"There are many different versions of quick sort that pick pivot in different ways such as always pick first element as pivot, always pick last element as pivot, pick a random element as pivot, pick median as pivot.\")\n",
    "print (\"Partition is the key process in quick sort. The goal of the partition process is to transfer items that are on the wrong side to the pivot.\")\n",
    "print (\"A quick sort first point a value, which is called the pivot. So what is pivot? Pivot can be any element from the array, it can be the last element, first element, or random element.\")"
   ]
  },
  {
   "cell_type": "code",
   "execution_count": 5,
   "id": "powerful-supply",
   "metadata": {},
   "outputs": [
    {
     "name": "stdout",
     "output_type": "stream",
     "text": [
      "Chapter 13 learnings are the following\n",
      "\n",
      "In this chapter we will learn about insertion and how to use this. Insertion sort is one of the sorting algorithm process on programming.\n",
      "The Insertion sort is a simple sorting algorithm that is similar to selection sort. It works to the way you sort playing cards in your hands and builds the final sorted array one item at a time.\n",
      "In this algorithm, insertion sort has a linear running time O(n) and a quadratic running time O(n2).\n",
      "The list elements are compared sequentially and arranged simultaneously in particular order. Insertion element in question can be inserted at a particular position.\n",
      "The insertion can be used when there are only small elements left to be sorted and the list has a few number of value.\n",
      "And also it grows a sorted output list consuming one input element each repetition.\n",
      "The process of doing insertion is first, take first element from the unsorted portion and insert that element into the sorted portion in the order specified but you need to assume that the first element in the array list is in sorted.\n",
      "There are many things to discover in this chapter as I adventure other examples on internet. I will definitely use this lesson in the near future.\n"
     ]
    }
   ],
   "source": [
    "print (\"Chapter 13 learnings are the following\")\n",
    "print (\"\\nIn this chapter we will learn about insertion and how to use this. Insertion sort is one of the sorting algorithm process on programming.\")\n",
    "print (\"The Insertion sort is a simple sorting algorithm that is similar to selection sort. It works to the way you sort playing cards in your hands and builds the final sorted array one item at a time.\")\n",
    "print (\"In this algorithm, insertion sort has a linear running time O(n) and a quadratic running time O(n2).\")\n",
    "print (\"The list elements are compared sequentially and arranged simultaneously in particular order. Insertion element in question can be inserted at a particular position.\")\n",
    "print (\"The insertion can be used when there are only small elements left to be sorted and the list has a few number of value.\")\n",
    "print (\"And also it grows a sorted output list consuming one input element each repetition.\")\n",
    "print (\"The process of doing insertion is first, take first element from the unsorted portion and insert that element into the sorted portion in the order specified but you need to assume that the first element in the array list is in sorted.\")\n",
    "print (\"There are many things to discover in this chapter as I adventure other examples on internet. I will definitely use this lesson in the near future.\")"
   ]
  },
  {
   "cell_type": "code",
   "execution_count": 6,
   "id": "alpine-nebraska",
   "metadata": {},
   "outputs": [
    {
     "name": "stdout",
     "output_type": "stream",
     "text": [
      "Chapter 14 learnings are the following\n",
      "\n",
      "This is the fourth sorting algorithm that I learn called merge sort. In this chapter I learn that merge sort is a sorting technique like quick sort that divides the input array into two halves.\n",
      "This sort can breaks down a list into many sublists until each sublist consists of a one element and merging those sublists in a manner that results into a sorted array.\n",
      "Merge sort works on Divide and Conquer algorithm. Its function is divides the whole array iteratively into equal halves unless the atomic values are achieved and keeps on dividing the list into equal halves until it can no more be divided.\n",
      "Merge function combines the sorted arrays into big arrays until the whole array is merged. We have called top-down merge sort that uses recursion mechanism.\n",
      "The other one called Bottom-Up merge sort that uses iterative methodology.\n",
      "Every recursive algorithm is dependent, ability to combine the results from base cases.\n",
      "In short, the functions of merge sort is to divide the unsorted list into sublists and to produce new sorted sublists until there is only one sublist remaining.\n",
      "This is a little bit hard for me but knowing that there many ways to understand the lesson so I came up with a plan to study more on this chapter.\n"
     ]
    }
   ],
   "source": [
    "print (\"Chapter 14 learnings are the following\")\n",
    "print (\"\\nThis is the fourth sorting algorithm that I learn called merge sort. In this chapter I learn that merge sort is a sorting technique like quick sort that divides the input array into two halves.\")\n",
    "print (\"This sort can breaks down a list into many sublists until each sublist consists of a one element and merging those sublists in a manner that results into a sorted array.\")\n",
    "print (\"Merge sort works on Divide and Conquer algorithm. Its function is divides the whole array iteratively into equal halves unless the atomic values are achieved and keeps on dividing the list into equal halves until it can no more be divided.\")\n",
    "print (\"Merge function combines the sorted arrays into big arrays until the whole array is merged. We have called top-down merge sort that uses recursion mechanism.\")\n",
    "print (\"The other one called Bottom-Up merge sort that uses iterative methodology.\")\n",
    "print (\"Every recursive algorithm is dependent, ability to combine the results from base cases.\")\n",
    "print (\"In short, the functions of merge sort is to divide the unsorted list into sublists and to produce new sorted sublists until there is only one sublist remaining.\")\n",
    "print (\"This is a little bit hard for me but knowing that there many ways to understand the lesson so I came up with a plan to study more on this chapter.\")"
   ]
  },
  {
   "cell_type": "code",
   "execution_count": 7,
   "id": "controlled-cursor",
   "metadata": {},
   "outputs": [
    {
     "name": "stdout",
     "output_type": "stream",
     "text": [
      "Chapter 15 learnings are the following\n",
      "\n",
      "Shell sort can be called as shell method which is a highly efficient sorting algorithm, mainly a variation of insertion sort or uses insertion sort on a widely spread elements.\n",
      "It avoids big shifts as in case of insertion sort, if the smaller value is to the far right and has to be transferred to the far left.\n",
      "This sort function is to first sorts the elements far apart from each other and successively reduces the interval between the elements to be sorted but depends on the type of sequence used for a given input array.\n",
      "Its idea is to arrange the list of elements. Shell sort is one of the best because of its efficiency of insertion by quickly shifting the values to their target part.\n",
      "This algorithm quite efficient as its cases of this complexity of this algorithm depends on the gap sequence the best known is Ο(n) and its worst case space complexity is O(n).\n",
      "How to perform this sorting algorithm? We need to arrange the elements in the tabular form and sort the columns by using insertion sort then repeat it again.\n",
      "Interval is the spacing term which calculated based on a formula. Shell sort uses a sequence called increment sequence.\n"
     ]
    }
   ],
   "source": [
    "print (\"Chapter 15 learnings are the following\")\n",
    "print (\"\\nShell sort can be called as shell method which is a highly efficient sorting algorithm, mainly a variation of insertion sort or uses insertion sort on a widely spread elements.\")\n",
    "print (\"It avoids big shifts as in case of insertion sort, if the smaller value is to the far right and has to be transferred to the far left.\")\n",
    "print (\"This sort function is to first sorts the elements far apart from each other and successively reduces the interval between the elements to be sorted but depends on the type of sequence used for a given input array.\")\n",
    "print (\"Its idea is to arrange the list of elements. Shell sort is one of the best because of its efficiency of insertion by quickly shifting the values to their target part.\")\n",
    "print (\"This algorithm quite efficient as its cases of this complexity of this algorithm depends on the gap sequence the best known is Ο(n) and its worst case space complexity is O(n).\")\n",
    "print (\"How to perform this sorting algorithm? We need to arrange the elements in the tabular form and sort the columns by using insertion sort then repeat it again.\")\n",
    "print (\"Interval is the spacing term which calculated based on a formula. Shell sort uses a sequence called increment sequence.\")"
   ]
  },
  {
   "cell_type": "code",
   "execution_count": 8,
   "id": "comic-indie",
   "metadata": {},
   "outputs": [
    {
     "name": "stdout",
     "output_type": "stream",
     "text": [
      "Chapter 16 learnings are the following\n",
      "\n",
      "This is the last part of sort algorithm called selection sort. In this chapter, we will learn about the functions and how to perform this sort.\n",
      "Selection sort is the simplest sorting algorithm that sorts an array by repeatedly finding its minimum element and places that element at the beginning of the unsorted list.\n",
      "This algorithm can be used on list structures that make remove and add functions efficient.\n",
      "How it works? Well selection sort starts from the first element, searching the smallest element in the array and replace it with the element in the first position.\n",
      "As I observe we need to always compare the selected element with all the other elements in the list.\n",
      "Look for smallest element in second position that present in the sub array, starting from 1 index until the last index.\n",
      "Then it will replace the element at the second position in the original array until the array is completely arranged.\n",
      "It has an O(n2) time complexity that performs worse than the similar insertion sort.\n",
      "Its idea is to arrange data list into either ascending or descending.\n",
      "I think this is the easiest of them all. I really enjoy learning this kind of lesson as I applied this in the future.\n"
     ]
    }
   ],
   "source": [
    "print (\"Chapter 16 learnings are the following\")\n",
    "print (\"\\nThis is the last part of sort algorithm called selection sort. In this chapter, we will learn about the functions and how to perform this sort.\")\n",
    "print (\"Selection sort is the simplest sorting algorithm that sorts an array by repeatedly finding its minimum element and places that element at the beginning of the unsorted list.\")\n",
    "print (\"This algorithm can be used on list structures that make remove and add functions efficient.\")\n",
    "print (\"How it works? Well selection sort starts from the first element, searching the smallest element in the array and replace it with the element in the first position.\")\n",
    "print (\"As I observe we need to always compare the selected element with all the other elements in the list.\")\n",
    "print (\"Look for smallest element in second position that present in the sub array, starting from 1 index until the last index.\")\n",
    "print (\"Then it will replace the element at the second position in the original array until the array is completely arranged.\")\n",
    "print (\"It has an O(n2) time complexity that performs worse than the similar insertion sort.\")\n",
    "print (\"Its idea is to arrange data list into either ascending or descending.\")\n",
    "print (\"I think this is the easiest of them all. I really enjoy learning this kind of lesson as I applied this in the future.\")"
   ]
  },
  {
   "cell_type": "code",
   "execution_count": 10,
   "id": "departmental-parade",
   "metadata": {},
   "outputs": [
    {
     "name": "stdout",
     "output_type": "stream",
     "text": [
      "Chapter 17 learnings are the following\n",
      "\n",
      "Upon listening to the lesson, Recursion is the process of solution to a problem.\n",
      "By using this function, we can solved problems in easy way. Its purpose is to provide a solution to bigger problems expressed in terms of smaller problems or shall we say split into several tasks of the same kind, but simpler.\n",
      "The recursion obtains the result for the present input by applying simple operations to the returned value for the smaller store.\n",
      "Also recursion finds the maximum value in a list of numbers. There are two properties of recursive function, first is called progressive approach and the other one is base criteria.\n",
      "Progressive approach is a progress that made it comes closer to the base criteria while case criteria is a condition that met the function ends calling itself recursively.\n",
      "Recursion is quite helpful since it can be used to make solutions on problems that can be found on games.\n",
      "In short, this recursive function is a function that calls itself. Recursion reduces a function call to a simpler one to even simpler until the result becomes good and obvious.\n",
      "This is quite challenging but there are many examples on internet about this lesson that could enhance my understanding and skills.\n"
     ]
    }
   ],
   "source": [
    "print (\"Chapter 17 learnings are the following\")\n",
    "print (\"\\nUpon listening to the lesson, Recursion is the process of solution to a problem.\")\n",
    "print (\"By using this function, we can solved problems in easy way. Its purpose is to provide a solution to bigger problems expressed in terms of smaller problems or shall we say split into several tasks of the same kind, but simpler.\")\n",
    "print (\"The recursion obtains the result for the present input by applying simple operations to the returned value for the smaller store.\")\n",
    "print (\"Also recursion finds the maximum value in a list of numbers. There are two properties of recursive function, first is called progressive approach and the other one is base criteria.\")\n",
    "print (\"Progressive approach is a progress that made it comes closer to the base criteria while case criteria is a condition that met the function ends calling itself recursively.\")\n",
    "print (\"Recursion is quite helpful since it can be used to make solutions on problems that can be found on games.\")\n",
    "print (\"In short, this recursive function is a function that calls itself. Recursion reduces a function call to a simpler one to even simpler until the result becomes good and obvious.\")\n",
    "print (\"This is quite challenging but there are many examples on internet about this lesson that could enhance my understanding and skills.\")"
   ]
  },
  {
   "cell_type": "code",
   "execution_count": 47,
   "id": "interested-doctrine",
   "metadata": {},
   "outputs": [
    {
     "name": "stdout",
     "output_type": "stream",
     "text": [
      "II. Answer the following questions:\n",
      "\n",
      "1. Implement the simple methods get_num and get_den that will return the numerator and denominator of a fraction.\n",
      "\n",
      "Numerator:  5\n",
      "Denominator:  8\n"
     ]
    }
   ],
   "source": [
    "print (\"II. Answer the following questions:\")\n",
    "print (\"\")\n",
    "print (\"1. Implement the simple methods get_num and get_den that will return the numerator and denominator of a fraction.\")\n",
    "\n",
    "numerator = 5\n",
    "denominator = 8\n",
    "\n",
    "def get_num(num):\n",
    "    return num\n",
    "def get_den(den):\n",
    "    return den\n",
    "\n",
    "print (\"\")\n",
    "print (\"Numerator: \",get_num(numerator))\n",
    "print (\"Denominator: \",get_den(denominator))\n"
   ]
  },
  {
   "cell_type": "code",
   "execution_count": 14,
   "id": "english-layout",
   "metadata": {},
   "outputs": [
    {
     "name": "stdout",
     "output_type": "stream",
     "text": [
      "Research the __radd__ method. How does it differ from __add__? When is it used? Implement __radd__\n",
      "\n",
      "__radd__ will be used if the left object does not have an __add__ method ,or its left operand does not support the corresponding operation and the operands are of different types.\n",
      "while __add__ is to implement the binary arithmetic operation.\n",
      "\n",
      "Adding from the Right:\n",
      "using the __add__\n",
      "Adding from the the Left:\n",
      "using the __radd__\n",
      "\n",
      "Type (x):  <class 'int'>\n",
      "Type (y):  <class '__main__.example'>\n"
     ]
    }
   ],
   "source": [
    "print (\"2. Research the __radd__ method. How does it differ from __add__? When is it used? Implement __radd__\")\n",
    "\n",
    "print (\"\")\n",
    "print (\"__radd__ will be used if the left object does not have an __add__ method ,or its left operand does not support the corresponding operation and the operands are of different types.\")\n",
    "print (\"while __add__ is to implement the binary arithmetic operation.\\n\")\n",
    "\n",
    "class example:\n",
    "    def __add__(self, other):\n",
    "        print(\"using the __add__\")\n",
    "        \n",
    "    def __radd__(self,other):\n",
    "        print(\"using the __radd__\")\n",
    "        \n",
    "        \n",
    "x= 8                     \n",
    "y = example()\n",
    "print (\"Adding from the Right:\")\n",
    "y + x\n",
    "print (\"Adding from the the Left:\")\n",
    "x + y \n",
    "print (\"\")\n",
    "\n",
    "print (\"Type (x): \", type(x))\n",
    "print (\"Type (y): \", type(y))"
   ]
  },
  {
   "cell_type": "code",
   "execution_count": 25,
   "id": "square-association",
   "metadata": {},
   "outputs": [
    {
     "name": "stdout",
     "output_type": "stream",
     "text": [
      "Research the __repr__ method. How does it differ from __str__? When is it used? Implement __repr__.\n",
      "\n",
      "__repr__ method is to find the official string representation while __str__ is to be readable or to find the informal\n",
      "\n",
      "My name is Richian\n"
     ]
    }
   ],
   "source": [
    "print (\"3. Research the __repr__ method. How does it differ from __str__? When is it used? Implement __repr__.\")\n",
    "\n",
    "print (\"\")\n",
    "print (\"__repr__ method is to find the official string representation while __str__ is to be readable or to find the informal\")\n",
    "\n",
    "class Ex:\n",
    "    def __init__(self, name):\n",
    "        self.username = name\n",
    "    def __repr__(self):\n",
    "        return 'My name is {}'.format(self.username)\n",
    "\n",
    "lp = Ex ('Richian')\n",
    "      \n",
    "print (\"\")\n",
    "print (lp)"
   ]
  },
  {
   "cell_type": "code",
   "execution_count": 29,
   "id": "documented-mistress",
   "metadata": {},
   "outputs": [
    {
     "name": "stdout",
     "output_type": "stream",
     "text": [
      "The most simple arithmetic circuit is known as the half adder. Research the simple half-adder circuit. Implement this circuit.\n",
      "\n",
      "Sum is:  374\n",
      "Carry is:  8\n"
     ]
    }
   ],
   "source": [
    "print (\"4. The most simple arithmetic circuit is known as the half adder. Research the simple half-adder circuit. Implement this circuit.\")\n",
    "\n",
    "print (\"\")\n",
    "\n",
    "def result(x, y):\n",
    "    Carry = x & y\n",
    "    Sum = x ^ y\n",
    "    print(\"Sum is: \", Sum)\n",
    "    print(\"Carry is: \", Carry)\n",
    "    \n",
    "x = 300\n",
    "y = 90\n",
    "result(x, y)\n"
   ]
  },
  {
   "cell_type": "code",
   "execution_count": 14,
   "id": "adopted-tolerance",
   "metadata": {},
   "outputs": [
    {
     "name": "stdout",
     "output_type": "stream",
     "text": [
      "5. Design a class to represent a playing card and another one to represent a deck of cards. Using these two classes, implement your favorite card game.\n",
      "\n",
      "<class '__main__.Deck'>\n",
      "4 of Clubs\n",
      "2 of Hearts\n",
      "4 of Hearts\n",
      "King of Hearts\n",
      "9 of Spades\n"
     ]
    }
   ],
   "source": [
    "print (\"5. Design a class to represent a playing card and another one to represent a deck of cards. Using these two classes, implement your favorite card game.\")\n",
    "\n",
    "print (\"\")\n",
    "import random\n",
    "\n",
    "class Card(object):\n",
    "\n",
    "    suit_names = [\"Clubs\", \"Diamonds\", \"Hearts\", \"Spades\"]\n",
    "    rank_names = [None, \"Ace\", \"2\", \"3\", \"4\", \"5\", \"6\", \"7\", \n",
    "              \"8\", \"9\", \"10\", \"Jack\", \"Queen\", \"King\"]\n",
    "\n",
    "    def __init__(self, suit=0, rank=2):\n",
    "        self.suit = suit\n",
    "        self.rank = rank\n",
    "\n",
    "    def __str__(self):\n",
    "        return '%s of %s' % (Card.rank_names[self.rank],\n",
    "                             Card.suit_names[self.suit])\n",
    "\n",
    "    def __cmp__(self, other):\n",
    "        t1 = self.suit, self.rank\n",
    "        t2 = other.suit, other.rank\n",
    "        return cmp(t1, t2)\n",
    "\n",
    "    def __lt__(self, other):\n",
    "        if self.suit < other.suit:\n",
    "            return True\n",
    "        elif self.suit > other.suit:\n",
    "            return False\n",
    "        else:\n",
    "            return self.rank < other.rank\n",
    "\n",
    "\n",
    "class Deck(object):\n",
    "    \n",
    "    def __init__(self):\n",
    "        self.cards = []\n",
    "        for suit in range(4):\n",
    "            for rank in range(1, 14):\n",
    "                card = Card(suit, rank)\n",
    "                self.cards.append(card)\n",
    "\n",
    "    def __str__(self):\n",
    "        res = []\n",
    "        for card in self.cards:\n",
    "            res.append(str(card))\n",
    "        return '\\n'.join(res)\n",
    "\n",
    "    def add_card(self, card):\n",
    "        self.cards.append(card)\n",
    "\n",
    "    def pop_card(self, i=-1):\n",
    "        return self.cards.pop(i)\n",
    "\n",
    "    def shuffle(self):\n",
    "        random.shuffle(self.cards)\n",
    "\n",
    "    def sort(self):\n",
    "        self.cards.sort()\n",
    "\n",
    "    def move_cards(self, hand, num):\n",
    "        for i in range(num):\n",
    "            hand.add_card(self.pop_card())\n",
    "\n",
    "\n",
    "class Favorite(Deck):\n",
    "    \n",
    "    def __init__(self, label=''):\n",
    "        self.label = label\n",
    "        self.cards = []\n",
    "\n",
    "\n",
    "def find_defining_class(obj, meth_name):\n",
    "    for ty in type(obj).mro():\n",
    "        if meth_name in ty.__dict__:\n",
    "            return ty\n",
    "    return None\n",
    "\n",
    "\n",
    "if __name__ == '__main__':\n",
    "    deck = Deck()\n",
    "    deck.shuffle()\n",
    "\n",
    "    hand = Favorite()\n",
    "    print(find_defining_class(hand, 'shuffle'))\n",
    "\n",
    "    deck.move_cards(hand, 5)\n",
    "    hand.sort()\n",
    "    print (hand)"
   ]
  },
  {
   "cell_type": "code",
   "execution_count": 27,
   "id": "simplified-cursor",
   "metadata": {},
   "outputs": [
    {
     "name": "stdout",
     "output_type": "stream",
     "text": [
      "6. Design and implement an experiment to do benchmark comparisons of the two queue(enqueue,dequeue) implementations. What can you learn from such an experiment?\n",
      "\n",
      "\n",
      "I learn that it allows to use a function which is insert on lists to add new values or elements to the queue.\n"
     ]
    }
   ],
   "source": [
    "print (\"6. Design and implement an experiment to do benchmark comparisons of the two queue(enqueue,dequeue) implementations. What can you learn from such an experiment?\")\n",
    "\n",
    "print (\"\")\n",
    "class Queue:\n",
    "    def __init__(self):\n",
    "        self.items = []\n",
    "    def empty(self):\n",
    "        return self.items == []\n",
    "\n",
    "    def enqueue(self, item):\n",
    "        self.items.insert(0,item)\n",
    "\n",
    "    def dequeue(self):\n",
    "        return self.items.pop()\n",
    "\n",
    "    def size(self):\n",
    "        return len(self.items)\n",
    "\n",
    "q=Queue()\n",
    "q.enqueue(\"Richian\")\n",
    "q.enqueue(True)\n",
    "q.enqueue(4)\n",
    "\n",
    "print (q.size())\n",
    "\n",
    "print (\"\")\n",
    "print (\"I learn that it allows to use a function which is insert on lists to add new values or elements to the queue.\")"
   ]
  },
  {
   "cell_type": "code",
   "execution_count": 53,
   "id": "passing-somewhere",
   "metadata": {},
   "outputs": [
    {
     "name": "stdout",
     "output_type": "stream",
     "text": [
      "7. Consider a real life situation. Formulate a question and then design a simulation that can help to answer it.\n",
      "\n",
      "Question: Why there are so many cars lined up for car wash today?\n",
      "Answer: Because today is raining and many cars got dirty.\n",
      "Answer: The machine under its car will not be damage by the dirt.\n",
      "Answer: They want to maintain their cleanliness of their cars.\n"
     ]
    }
   ],
   "source": [
    "print (\"7. Consider a real life situation. Formulate a question and then design a simulation that can help to answer it.\")\n",
    "\n",
    "print(\"\")\n",
    "print (\"Question: Why there are so many cars lined up for car wash today?\")\n",
    "print (\"Answer: Because today is raining and many cars got dirty.\")\n",
    "print (\"Answer: The machine under its car will not be damage by the dirt.\")\n",
    "print (\"Answer: They want to maintain their cleanliness of their cars.\")"
   ]
  },
  {
   "cell_type": "code",
   "execution_count": 33,
   "id": "valid-emission",
   "metadata": {},
   "outputs": [
    {
     "name": "stdout",
     "output_type": "stream",
     "text": [
      "8. Implement a queue using linked lists.\n",
      "\n",
      "['Dog', 'Cat', 'Fish', 'Elephant', 'Turtle', 'Spider', 'Bird', 'Rat']\n",
      "['Cat', 'Elephant', 'Turtle', 'Spider', 'Bird', 'Rat']\n"
     ]
    }
   ],
   "source": [
    "print (\"8. Implement a queue using linked lists.\")\n",
    "\n",
    "print(\"\")\n",
    "queue = [\"Dog\",\"Cat\",\"Fish\",\"Elephant\",\"Turtle\"]\n",
    "\n",
    "queue.append(\"Spider\")\n",
    "queue.append(\"Bird\")\n",
    "queue.append(\"Rat\")\n",
    "\n",
    "print(queue)\n",
    "\n",
    "(queue.pop(0))\n",
    "(queue.pop(1))\n",
    "\n",
    "print(queue)"
   ]
  },
  {
   "cell_type": "code",
   "execution_count": 43,
   "id": "emotional-suspect",
   "metadata": {},
   "outputs": [
    {
     "name": "stdout",
     "output_type": "stream",
     "text": [
      "9. Write a recursive function to compute the factorial of a number.\n",
      "\n",
      "Factorial of 3 is 6\n"
     ]
    }
   ],
   "source": [
    "print (\"9. Write a recursive function to compute the factorial of a number.\")\n",
    "\n",
    "print (\"\")\n",
    "def recursive_factorial(n):\n",
    "    if n == 1:\n",
    "        return n\n",
    "    else:\n",
    "        return n*recursive_factorial(n-1)\n",
    "\n",
    "value = 3\n",
    "\n",
    "print(\"Factorial of\", value,\"is\", recursive_factorial(value))"
   ]
  },
  {
   "cell_type": "code",
   "execution_count": 44,
   "id": "tender-worthy",
   "metadata": {},
   "outputs": [
    {
     "name": "stdout",
     "output_type": "stream",
     "text": [
      "10. Set up a random experiment to test the difference between a sequential search and a binary search on a list of integers.\n",
      "\n",
      "Sequential Search: \n",
      "(True, 3)\n",
      "\n",
      "Binary Search: \n",
      "The element is present at index 2\n"
     ]
    }
   ],
   "source": [
    "print (\"10. Set up a random experiment to test the difference between a sequential search and a binary search on a list of integers.\")\n",
    "\n",
    "print(\"\")\n",
    "arr = [ 5, 10, 15, 20, 25, 30, 35, 40 ]\n",
    "\n",
    "def sequential_search(dlist, item):\n",
    "    pos = 0\n",
    "    found = False\n",
    "    \n",
    "    while pos < len(dlist) and not found:\n",
    "        if dlist[pos] == item:\n",
    "            found = True\n",
    "        else:\n",
    "            pos = pos + 1\n",
    "    \n",
    "    return found, pos\n",
    "\n",
    "def binary_search(arr, low, high, x):\n",
    "\n",
    "    if high >= low:\n",
    " \n",
    "        mid = (high + low) // 2\n",
    "\n",
    "        if arr[mid] == x:\n",
    "            return mid\n",
    "\n",
    "        elif arr[mid] > x:\n",
    "            return binary_search(arr, low, mid - 1, x)\n",
    "\n",
    "        else:\n",
    "            return binary_search(arr, mid + 1, high, x)\n",
    " \n",
    "    else:\n",
    "        return -1\n",
    "print (\"Sequential Search: \")\n",
    "print (sequential_search(arr,20))\n",
    "\n",
    "x = 15\n",
    "\n",
    "result = binary_search(arr, 0, len(arr)-1, x)\n",
    "print (\"\\nBinary Search: \") \n",
    "if result != -1:\n",
    "    print (\"The element is present at index\", str(result))\n",
    "else:\n",
    "    print (\"The element isn't present in array\")"
   ]
  },
  {
   "cell_type": "code",
   "execution_count": 45,
   "id": "temporal-change",
   "metadata": {},
   "outputs": [
    {
     "name": "stdout",
     "output_type": "stream",
     "text": [
      "11. Suppose you are a computer scientist/art thief who has broken into a major art gallery. All you have with you to haul out your stolen art is your knapsack which only holds W pounds of art, but for every piece of art you know its value and its weight. Write a dynamic programming function to help you maximize your profit. Here is a sample problem for you to use to get started: Suppose your knapsack can hold a total weight of 20. \n",
      "\n",
      "8\n"
     ]
    }
   ],
   "source": [
    "print (\"11. Suppose you are a computer scientist/art thief who has broken into a major art gallery. All you have with you to haul out your stolen art is your knapsack which only holds W pounds of art, but for every piece of art you know its value and its weight. Write a dynamic programming function to help you maximize your profit. Here is a sample problem for you to use to get started: Suppose your knapsack can hold a total weight of 20. \")\n",
    "\n",
    "print (\"\")\n",
    "def knapsack(item, weight, value, t):\n",
    "\n",
    "    if t == 0 or item == 0:\n",
    "        return 0\n",
    "\n",
    "    if (weight[t-1] > item):\n",
    "        return knapsack(item, weight, value, t-1)\n",
    "\n",
    "    else:\n",
    "        return max(\n",
    "            value[t-1] + knapsack(\n",
    "                item-weight[t-1], weight, value, t-1),\n",
    "            knapsack(item, weight, value, t-1))\n",
    "\n",
    "item = 5\n",
    "weight = [2,3,4,5,9]\n",
    "value = [3,4,8,8,10]\n",
    "t = len(value)\n",
    "\n",
    "print (knapsack(item, weight, value, t))"
   ]
  },
  {
   "cell_type": "code",
   "execution_count": null,
   "id": "every-tuner",
   "metadata": {},
   "outputs": [],
   "source": []
  }
 ],
 "metadata": {
  "kernelspec": {
   "display_name": "Python 3",
   "language": "python",
   "name": "python3"
  },
  "language_info": {
   "codemirror_mode": {
    "name": "ipython",
    "version": 3
   },
   "file_extension": ".py",
   "mimetype": "text/x-python",
   "name": "python",
   "nbconvert_exporter": "python",
   "pygments_lexer": "ipython3",
   "version": "3.9.1"
  }
 },
 "nbformat": 4,
 "nbformat_minor": 5
}
